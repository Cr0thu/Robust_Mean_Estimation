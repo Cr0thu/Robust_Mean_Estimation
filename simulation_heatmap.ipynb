{
 "cells": [
  {
   "cell_type": "code",
   "execution_count": null,
   "metadata": {},
   "outputs": [],
   "source": [
    "import numpy as np\n",
    "import scipy\n",
    "import robust_mean_estimate as rl\n",
    "import importlib as il\n",
    "import matplotlib as mpl\n",
    "mpl.rcParams.update(mpl.rcParamsDefault)\n",
    "from scipy import special\n",
    "from numpy import linalg as LA\n",
    "import matplotlib.pyplot as plt\n",
    "%matplotlib inline\n",
    "import mpld3\n",
    "mpld3.enable_notebook()\n",
    "\n",
    "fsize = 20\n",
    "fpad = 10\n",
    "figsize = (8,4)\n",
    "fontname = 'fantasy'\n",
    "# plt.rcParams.update({\n",
    "#     \"text.usetex\": True,\n",
    "#     \"font.family\": \"Helvetica\"\n",
    "# })\n"
   ]
  },
  {
   "cell_type": "code",
   "execution_count": null,
   "metadata": {},
   "outputs": [],
   "source": [
    "\"heatmap -- Fisk -- dense biased -- set data -- Full_Filter\"\n",
    "\n",
    "il.reload(rl)\n",
    "\n",
    "trials = 50\n",
    "\n",
    "eps = 0.1\n",
    "d = 100\n",
    "\n",
    "xs = list(np.arange(200, 1000, 100))\n",
    "ys = list(np.arange(4, 9, 1))\n",
    "\n",
    "keys = rl.Full_Filter\n",
    "\n",
    "model = rl.FiskModel()\n",
    "noise_model = rl.DenseNoise(-2)\n",
    "model_params = rl.Params(eps = eps, d = d, param=3.1)\n",
    "\n",
    "inputfilename = 'data/heatmap-Fisk-Full_Filter.pkl'\n",
    "plot_heatmap = rl.load_data(model = model, noise_model = noise_model, params = model_params, loss = rl.err, keys = keys)\n",
    "plot_heatmap.setdata_tofile_heatmap(filename = inputfilename, trials = trials, xs = xs, ys = ys)\n",
    "print(plot_heatmap.Run.runs)"
   ]
  },
  {
   "cell_type": "code",
   "execution_count": null,
   "metadata": {},
   "outputs": [],
   "source": [
    "\"heatmap -- Pareto -- dense biased -- set data -- Full_Filter\"\n",
    "\n",
    "il.reload(rl)\n",
    "\n",
    "trials = 50\n",
    "\n",
    "eps = 0.1\n",
    "d = 100\n",
    "\n",
    "xs = list(np.arange(200, 1000, 100))\n",
    "ys = list(np.arange(4, 9, 1))\n",
    "\n",
    "keys = rl.Full_Filter\n",
    "\n",
    "model = rl.ParetoModel()\n",
    "noise_model = rl.DenseNoise(-2)\n",
    "model_params = rl.Params(eps = eps, d = d, param=3.1)\n",
    "\n",
    "inputfilename = 'data/heatmap-Pareto-Full_Filter.pkl'\n",
    "plot_heatmap = rl.load_data(model = model, noise_model = noise_model, params = model_params, loss = rl.err, keys = keys)\n",
    "plot_heatmap.setdata_tofile_heatmap(filename = inputfilename, trials = trials, xs = xs, ys = ys)\n",
    "print(plot_heatmap.Run.runs)"
   ]
  },
  {
   "cell_type": "code",
   "execution_count": null,
   "metadata": {},
   "outputs": [],
   "source": [
    "\"heatmap -- StudentT -- dense biased -- set data -- Full_Filter\"\n",
    "\n",
    "il.reload(rl)\n",
    "\n",
    "trials = 50\n",
    "\n",
    "eps = 0.1\n",
    "d = 100\n",
    "\n",
    "xs = list(np.arange(200, 1000, 100))\n",
    "ys = list(np.arange(4, 9, 1))\n",
    "\n",
    "keys = rl.Full_Filter\n",
    "\n",
    "model = rl.TModel()\n",
    "noise_model = rl.DenseNoise(-2)\n",
    "model_params = rl.Params(eps = eps, d = d, param=3.1)\n",
    "\n",
    "inputfilename = 'data/heatmap-StudentT-Full_Filter.pkl'\n",
    "plot_heatmap = rl.load_data(model = model, noise_model = noise_model, params = model_params, loss = rl.err, keys = keys)\n",
    "plot_heatmap.setdata_tofile_heatmap(filename = inputfilename, trials = trials, xs = xs, ys = ys)\n",
    "print(plot_heatmap.Run.runs)"
   ]
  },
  {
   "cell_type": "code",
   "execution_count": null,
   "metadata": {},
   "outputs": [],
   "source": [
    "\"\"\"Plot 3 heatmaps.\"\"\"\n",
    "il.reload(rl)\n",
    "\n",
    "trials = 50\n",
    "\n",
    "eps = 0.1\n",
    "d = 100\n",
    "\n",
    "xs = list(np.arange(200, 1000, 100))\n",
    "ys = list(np.arange(4, 9, 1))\n",
    "\n",
    "keys = rl.Full_Filter\n",
    "\n",
    "model = rl.TModel()\n",
    "noise_model = rl.DenseNoise(-2)\n",
    "model_params = rl.Params(eps = eps, d = d)\n",
    "\n",
    "inputfilename1 = 'data/heatmap-Fisk-Full_Filter.pkl'\n",
    "inputfilename2 = 'data/heatmap-Pareto-Full_Filter.pkl'\n",
    "inputfilename3 = 'data/heatmap-StudentT-Full_Filter.pkl'\n",
    "\n",
    "outputfilename = 'figs/heatmap-3-Full_Filter.pdf'\n",
    "\n",
    "# title = 'eps = {eps}, d = {d}. Model is StudentT. Noise is constant -2 biased.'.format(eps = eps, d = d)\n",
    "title = '3 heatmaps'\n",
    "xlabel = \"sample size (n)\"\n",
    "ylabel = \"sparsity (k)\"\n",
    "\n",
    "heatmap = rl.plot_data(model = model, noise_model = noise_model, params = model_params, loss = rl.err, keys = keys)\n",
    "\n",
    "heatmap.plotheatmap_3_fromfile(yscale = 'log', outputfilename = outputfilename, filename1 = inputfilename1, filename2 = inputfilename2, filename3 = inputfilename3, title = title, xlabel = xlabel, ylabel = ylabel, figsize = figsize, fsize = fsize, fpad = fpad, xs = xs, ys = ys, fontname = fontname)"
   ]
  }
 ],
 "metadata": {
  "kernelspec": {
   "display_name": "Python 3.8.8rc1 64-bit",
   "language": "python",
   "name": "python3"
  },
  "language_info": {
   "codemirror_mode": {
    "name": "ipython",
    "version": 3
   },
   "file_extension": ".py",
   "mimetype": "text/x-python",
   "name": "python",
   "nbconvert_exporter": "python",
   "pygments_lexer": "ipython3",
   "version": "3.8.8rc1"
  },
  "orig_nbformat": 4,
  "vscode": {
   "interpreter": {
    "hash": "aee8b7b246df8f9039afb4144a1f6fd8d2ca17a180786b69acc140d282b71a49"
   }
  }
 },
 "nbformat": 4,
 "nbformat_minor": 2
}
